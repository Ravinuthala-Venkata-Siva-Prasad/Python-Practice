{
 "cells": [
  {
   "cell_type": "code",
   "execution_count": null,
   "id": "1816be17",
   "metadata": {},
   "outputs": [],
   "source": [
    "##Conditional Statement(if,elif,else)"
   ]
  },
  {
   "cell_type": "code",
   "execution_count": 1,
   "id": "24654125",
   "metadata": {},
   "outputs": [
    {
     "name": "stdout",
     "output_type": "stream",
     "text": [
      "You are Allowed to Vote in the Election\n"
     ]
    }
   ],
   "source": [
    "## if Statement\n",
    "\n",
    "age=20\n",
    "\n",
    "if age>=18:\n",
    "    print(\"You are Allowed to Vote in the Election\")"
   ]
  },
  {
   "cell_type": "code",
   "execution_count": null,
   "id": "c707f610",
   "metadata": {},
   "outputs": [
    {
     "data": {
      "text/plain": [
       "True"
      ]
     },
     "execution_count": 2,
     "metadata": {},
     "output_type": "execute_result"
    }
   ],
   "source": [
    "age>=18"
   ]
  },
  {
   "cell_type": "code",
   "execution_count": 3,
   "id": "772e79dd",
   "metadata": {},
   "outputs": [
    {
     "name": "stdout",
     "output_type": "stream",
     "text": [
      "You are Allowed to Vote\n"
     ]
    }
   ],
   "source": [
    "##else\n",
    "age=15\n",
    "\n",
    "if age<18:\n",
    "    print(\"You are Allowed to Vote\")\n",
    "else:\n",
    "    print(\"You are a Minor\")"
   ]
  },
  {
   "cell_type": "code",
   "execution_count": 4,
   "id": "212a02b4",
   "metadata": {},
   "outputs": [
    {
     "name": "stdout",
     "output_type": "stream",
     "text": [
      "Your a teenager\n"
     ]
    }
   ],
   "source": [
    "##elif\n",
    "## the elif statement is Allows you to check multiple conditions. It stands for \"else if\"\n",
    "\n",
    "age=17\n",
    "\n",
    "if age<13:\n",
    "    print(\"you are a child\")\n",
    "elif age<18:\n",
    "    print(\"Your a teenager\")\n",
    "else:\n",
    "    print(\"you are Adult\")"
   ]
  },
  {
   "cell_type": "code",
   "execution_count": 2,
   "id": "0fcee1bc",
   "metadata": {},
   "outputs": [
    {
     "name": "stdout",
     "output_type": "stream",
     "text": [
      "Number is Negative or Zero\n"
     ]
    }
   ],
   "source": [
    "##Nested Conditional Statements\n",
    "\n",
    "#You can place one or more if , elif, or else statement inside another \n",
    "\n",
    "## Number even , odd, negative\n",
    "\n",
    "num = int(input(\"Enter a Number\"))\n",
    "\n",
    "if num>0:\n",
    "    if num%2==0:\n",
    "        print(\"It is Even Number\")\n",
    "    else:\n",
    "        print(\"It is Odd Number\")\n",
    "else:\n",
    "    print(\"Number is Negative or Zero\")"
   ]
  },
  {
   "cell_type": "code",
   "execution_count": 4,
   "id": "a4d712d9",
   "metadata": {},
   "outputs": [
    {
     "name": "stdout",
     "output_type": "stream",
     "text": [
      "Ticket price 15$\n"
     ]
    }
   ],
   "source": [
    "### Determine the ticket price based on age\n",
    "age = int(input(\"Enater a age \"))\n",
    "is_student = input(\"Are you Student ? yes/no\").lower()\n",
    "\n",
    "##Determine the Ticket Price\n",
    "if age<5:\n",
    "    price=\"Free\"\n",
    "elif age<12:\n",
    "    price=\"10$\"\n",
    "elif age<17:\n",
    "    if is_student=='yes':\n",
    "        price = '12$'\n",
    "    else:\n",
    "        price=\"15$\"\n",
    "elif age <60:\n",
    "    if is_student=='yes':\n",
    "        price='18$'\n",
    "    else:\n",
    "        price='20$'\n",
    "else:\n",
    "    price=\"25$\"\n",
    "    \n",
    "print(\"Ticket price\",price)\n",
    "\n",
    "    "
   ]
  },
  {
   "cell_type": "code",
   "execution_count": null,
   "id": "e5fbee2d",
   "metadata": {},
   "outputs": [],
   "source": []
  },
  {
   "cell_type": "code",
   "execution_count": null,
   "id": "1203878a",
   "metadata": {},
   "outputs": [],
   "source": []
  }
 ],
 "metadata": {
  "kernelspec": {
   "display_name": "Python 3",
   "language": "python",
   "name": "python3"
  },
  "language_info": {
   "codemirror_mode": {
    "name": "ipython",
    "version": 3
   },
   "file_extension": ".py",
   "mimetype": "text/x-python",
   "name": "python",
   "nbconvert_exporter": "python",
   "pygments_lexer": "ipython3",
   "version": "3.10.0"
  }
 },
 "nbformat": 4,
 "nbformat_minor": 5
}
