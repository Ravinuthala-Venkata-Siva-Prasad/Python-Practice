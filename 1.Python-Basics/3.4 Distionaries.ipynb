{
 "cells": [
  {
   "cell_type": "code",
   "execution_count": 1,
   "id": "a0f74079",
   "metadata": {},
   "outputs": [],
   "source": [
    "###Distionaries "
   ]
  },
  {
   "cell_type": "code",
   "execution_count": 2,
   "id": "a5c820d3",
   "metadata": {},
   "outputs": [
    {
     "name": "stdout",
     "output_type": "stream",
     "text": [
      "<class 'dict'>\n"
     ]
    }
   ],
   "source": [
    "## Creating Dictionaries\n",
    "empty_dict={}\n",
    "print(type(empty_dict))"
   ]
  },
  {
   "cell_type": "code",
   "execution_count": 3,
   "id": "b496b252",
   "metadata": {},
   "outputs": [
    {
     "data": {
      "text/plain": [
       "{}"
      ]
     },
     "execution_count": 3,
     "metadata": {},
     "output_type": "execute_result"
    }
   ],
   "source": [
    "empty_dict = {}\n",
    "empty_dict"
   ]
  },
  {
   "cell_type": "code",
   "execution_count": 4,
   "id": "95d1f727",
   "metadata": {},
   "outputs": [
    {
     "name": "stdout",
     "output_type": "stream",
     "text": [
      "{'name': 'Siva', 'age': 24, 'grade': 24}\n",
      "<class 'dict'>\n"
     ]
    }
   ],
   "source": [
    "student={\"name\":\"Siva\",\"age\":24,\"grade\":24}\n",
    "print(student)\n",
    "print(type(student))"
   ]
  },
  {
   "cell_type": "code",
   "execution_count": 5,
   "id": "cf0e2919",
   "metadata": {},
   "outputs": [
    {
     "data": {
      "text/plain": [
       "{}"
      ]
     },
     "execution_count": 5,
     "metadata": {},
     "output_type": "execute_result"
    }
   ],
   "source": [
    "empty_dict=dict()\n",
    "empty_dict"
   ]
  },
  {
   "cell_type": "code",
   "execution_count": 9,
   "id": "fd244bb8",
   "metadata": {},
   "outputs": [
    {
     "name": "stdout",
     "output_type": "stream",
     "text": [
      "{'name': 'Siva', 'age': 24, 'grade': 'A++'}\n"
     ]
    }
   ],
   "source": [
    "##Accessing Dictionary Elements\n",
    "student={\"name\":\"Siva\",\"age\":24,\"grade\":\"A++\",}\n",
    "print(student)"
   ]
  },
  {
   "cell_type": "code",
   "execution_count": 10,
   "id": "eb306cf2",
   "metadata": {},
   "outputs": [
    {
     "name": "stdout",
     "output_type": "stream",
     "text": [
      "{'name': 'prasad', 'age': 24, 'grade': 'A++'}\n"
     ]
    }
   ],
   "source": [
    "## Single Key Always Used \n",
    "student={\"name\":\"Siva\",\"age\":24,\"grade\":\"A++\",\"name\":\"prasad\"}\n",
    "print(student)"
   ]
  },
  {
   "cell_type": "code",
   "execution_count": 11,
   "id": "8b36f7d7",
   "metadata": {},
   "outputs": [
    {
     "name": "stdout",
     "output_type": "stream",
     "text": [
      "A++\n",
      "24\n",
      "A++\n",
      "None\n",
      "Not Available\n"
     ]
    }
   ],
   "source": [
    "## Accessing Dictionary Elements\n",
    "print(student['grade'])\n",
    "print(student[\"age\"])\n",
    "\n",
    "## Accessing using get() method\n",
    "print(student.get(\"grade\"))\n",
    "print(student.get(\"last_name\"))\n",
    "print(student.get(\"last_name\",\"Not Available\"))"
   ]
  },
  {
   "cell_type": "code",
   "execution_count": 12,
   "id": "92acdb17",
   "metadata": {},
   "outputs": [
    {
     "name": "stdout",
     "output_type": "stream",
     "text": [
      "{'name': 'prasad', 'age': 24, 'grade': 'A++'}\n"
     ]
    }
   ],
   "source": [
    "###Modifying Dicitonary Elements\n",
    "## Dictionary are mutable, so you can add,Update or delete elements\n",
    "print(student)"
   ]
  },
  {
   "cell_type": "code",
   "execution_count": 13,
   "id": "d70ea6d9",
   "metadata": {},
   "outputs": [
    {
     "name": "stdout",
     "output_type": "stream",
     "text": [
      "{'name': 'prasad', 'age': 25, 'grade': 'A++'}\n",
      "{'name': 'prasad', 'age': 25, 'grade': 'A++', 'address': 'India'}\n"
     ]
    }
   ],
   "source": [
    "student[\"age\"]=25  ##Update value for the key\n",
    "print(student)\n",
    "student[\"address\"]=\"India\" ## adding the element\n",
    "print(student)"
   ]
  },
  {
   "cell_type": "code",
   "execution_count": 15,
   "id": "1bdb9890",
   "metadata": {},
   "outputs": [
    {
     "name": "stdout",
     "output_type": "stream",
     "text": [
      "{'name': 'prasad', 'age': 25, 'address': 'India'}\n"
     ]
    }
   ],
   "source": [
    "del student[\"grade\"] ##delect key and value\n",
    "print(student)"
   ]
  },
  {
   "cell_type": "code",
   "execution_count": 17,
   "id": "665954ec",
   "metadata": {},
   "outputs": [
    {
     "name": "stdout",
     "output_type": "stream",
     "text": [
      "dict_keys(['name', 'age', 'address'])\n",
      "dict_values(['prasad', 25, 'India'])\n",
      "dict_items([('name', 'prasad'), ('age', 25), ('address', 'India')])\n"
     ]
    }
   ],
   "source": [
    "## Dictionary Methods\n",
    "keys=student.keys()\n",
    "print(keys)\n",
    "values=student.values()\n",
    "print(values)\n",
    "\n",
    "items=student.items()\n",
    "print(items)"
   ]
  },
  {
   "cell_type": "code",
   "execution_count": null,
   "id": "39ad9b7a",
   "metadata": {},
   "outputs": [],
   "source": []
  }
 ],
 "metadata": {
  "kernelspec": {
   "display_name": "Python 3",
   "language": "python",
   "name": "python3"
  },
  "language_info": {
   "codemirror_mode": {
    "name": "ipython",
    "version": 3
   },
   "file_extension": ".py",
   "mimetype": "text/x-python",
   "name": "python",
   "nbconvert_exporter": "python",
   "pygments_lexer": "ipython3",
   "version": "3.10.0"
  }
 },
 "nbformat": 4,
 "nbformat_minor": 5
}
