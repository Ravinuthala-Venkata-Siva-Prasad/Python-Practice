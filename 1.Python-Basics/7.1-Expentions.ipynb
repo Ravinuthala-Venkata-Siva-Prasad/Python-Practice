{
 "cells": [
  {
   "cell_type": "markdown",
   "id": "6f747f4b",
   "metadata": {},
   "source": [
    "###UnderStanding Exceptions"
   ]
  },
  {
   "cell_type": "code",
   "execution_count": 2,
   "id": "1b3990dc",
   "metadata": {},
   "outputs": [
    {
     "name": "stdout",
     "output_type": "stream",
     "text": [
      "The variable is not been assigned\n"
     ]
    }
   ],
   "source": [
    "###Exception try,except block\n",
    "\n",
    "try:\n",
    "    a=b\n",
    "except:\n",
    "    print('The variable is not been assigned')"
   ]
  },
  {
   "cell_type": "code",
   "execution_count": 3,
   "id": "4adce975",
   "metadata": {},
   "outputs": [
    {
     "ename": "NameError",
     "evalue": "name 'b' is not defined",
     "output_type": "error",
     "traceback": [
      "\u001b[1;31m---------------------------------------------------------------------------\u001b[0m",
      "\u001b[1;31mNameError\u001b[0m                                 Traceback (most recent call last)",
      "Cell \u001b[1;32mIn[3], line 1\u001b[0m\n\u001b[1;32m----> 1\u001b[0m a\u001b[38;5;241m=\u001b[39m\u001b[43mb\u001b[49m\n",
      "\u001b[1;31mNameError\u001b[0m: name 'b' is not defined"
     ]
    }
   ],
   "source": [
    "a=b"
   ]
  },
  {
   "cell_type": "code",
   "execution_count": 4,
   "metadata": {},
   "outputs": [
    {
     "name": "stdout",
     "output_type": "stream",
     "text": [
      "name 'b' is not defined\n"
     ]
    }
   ],
   "source": [
    "try:\n",
    "    a=b\n",
    "except NameError as si:\n",
    "    print(si)"
   ]
  },
  {
   "cell_type": "code",
   "execution_count": 5,
   "id": "b70dbd31",
   "metadata": {},
   "outputs": [
    {
     "name": "stdout",
     "output_type": "stream",
     "text": [
      "division by zero\n",
      "please Enter The denominator greater than 0\n"
     ]
    }
   ],
   "source": [
    "try:\n",
    "    result=1/0\n",
    "except ZeroDivisionError as ex:\n",
    "    print(ex)\n",
    "    print('please Enter The denominator greater than 0')"
   ]
  },
  {
   "cell_type": "code",
   "execution_count": 6,
   "id": "c7c1582b",
   "metadata": {},
   "outputs": [
    {
     "name": "stdout",
     "output_type": "stream",
     "text": [
      "name 'b' is not defined\n",
      "Main Exception got Cauch Here\n"
     ]
    }
   ],
   "source": [
    "try:\n",
    "    result=1/2\n",
    "    a=b\n",
    "except ZeroDivisionError as Ex:\n",
    "    print(Ex)\n",
    "except Exception as Ex1:\n",
    "    print(Ex1)\n",
    "    print(\"Main Exception got Cauch Here\")\n",
    "      "
   ]
  },
  {
   "cell_type": "code",
   "execution_count": 10,
   "id": "52f5a108",
   "metadata": {},
   "outputs": [
    {
     "name": "stdout",
     "output_type": "stream",
     "text": [
      "the result is 0.18181818181818182\n"
     ]
    }
   ],
   "source": [
    "try:\n",
    "    num=int(input('Enter a number'))\n",
    "    result=10/num\n",
    "except ValueError:\n",
    "    print('That is Not a valid Number')\n",
    "except ZeroDivisionError:\n",
    "    print(\"You Cant divide by Zero\")\n",
    "except Exception as ex:\n",
    "    print(ex)\n",
    "else:\n",
    "    print(f\"the result is {result}\")\n"
   ]
  },
  {
   "cell_type": "code",
   "execution_count": 11,
   "id": "f7f1912b",
   "metadata": {},
   "outputs": [
    {
     "name": "stdout",
     "output_type": "stream",
     "text": [
      "the result is 0.7142857142857143\n",
      "Execution Completed\n"
     ]
    }
   ],
   "source": [
    "try:\n",
    "    num=int(input('Enter a number'))\n",
    "    result=10/num\n",
    "except ValueError:\n",
    "    print('That is Not a valid Number')\n",
    "except ZeroDivisionError:\n",
    "    print(\"You Cant divide by Zero\")\n",
    "except Exception as ex:\n",
    "    print(ex)\n",
    "else:\n",
    "    print(f\"the result is {result}\")\n",
    "finally:\n",
    "    print(\"Execution Completed\")"
   ]
  }
 ],
 "metadata": {
  "kernelspec": {
   "display_name": "Python 3",
   "language": "python",
   "name": "python3"
  },
  "language_info": {
   "codemirror_mode": {
    "name": "ipython",
    "version": 3
   },
   "file_extension": ".py",
   "mimetype": "text/x-python",
   "name": "python",
   "nbconvert_exporter": "python",
   "pygments_lexer": "ipython3",
   "version": "3.10.0"
  }
 },
 "nbformat": 4,
 "nbformat_minor": 5
}
