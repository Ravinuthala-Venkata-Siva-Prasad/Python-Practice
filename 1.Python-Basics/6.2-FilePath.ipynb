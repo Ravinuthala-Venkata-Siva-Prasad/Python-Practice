{
 "cells": [
  {
   "cell_type": "code",
   "execution_count": 1,
   "id": "4b47cfef",
   "metadata": {},
   "outputs": [],
   "source": [
    "###Working with File Paths"
   ]
  },
  {
   "cell_type": "code",
   "execution_count": 3,
   "id": "a3accf8e",
   "metadata": {},
   "outputs": [
    {
     "name": "stdout",
     "output_type": "stream",
     "text": [
      "Current Working directory is d:\\Python -pratices\n"
     ]
    }
   ],
   "source": [
    "import os\n",
    "cws=os.getcwd()\n",
    "print(f\"Current Working directory is {cws}\")"
   ]
  },
  {
   "cell_type": "code",
   "execution_count": 4,
   "id": "dafff548",
   "metadata": {},
   "outputs": [
    {
     "name": "stdout",
     "output_type": "stream",
     "text": [
      "Directory 'package create\n"
     ]
    }
   ],
   "source": [
    "## Create a New Directory\n",
    "new_directory=\"package\"\n",
    "os.mkdir(new_directory)\n",
    "print(f\"Directory '{new_directory} create\")"
   ]
  },
  {
   "cell_type": "code",
   "execution_count": 5,
   "id": "f33ee8d2",
   "metadata": {},
   "outputs": [
    {
     "name": "stdout",
     "output_type": "stream",
     "text": [
      "['1.0 bascis.ipynb', '1.1 Varibles.ipynb', '1.2 Operators.ipynb', '2.1 loops.ipynb', '2.2 Conditional Statement.ipynb', '3.1 Lists.ipynb', '3.1.1-ListExamples.ipynb', '3.2 Tuples.ipynb', '3.3 Sets.ipynb', '3.4 Distionaries.ipynb', '4.1Functions.ipynb', '4.2 Function Exxamples.ipynb', '4.3 Lambda.ipynb', '4.4 MapsFunctions.ipynb', '4.5 FilterFunction.ipynb', '5.1-imports.ipynb', '5.2-Standardlibrary.ipynb', '6.1-FileOperation.ipynb', '6.2-FilePath.ipynb', 'destination.txt', 'example.txt', 'package', 'prasad.txt', 'siva-1.txt', 'siva.txt']\n"
     ]
    }
   ],
   "source": [
    "##Listing Files and Directories\n",
    "items=os.listdir(\".\")\n",
    "print(items)"
   ]
  },
  {
   "cell_type": "code",
   "execution_count": 6,
   "id": "19ef40f8",
   "metadata": {},
   "outputs": [
    {
     "name": "stdout",
     "output_type": "stream",
     "text": [
      "folder\\file.txt\n"
     ]
    }
   ],
   "source": [
    "###joining Paths\n",
    "\n",
    "dir_name=\"folder\"\n",
    "file_name=\"file.txt\"\n",
    "full_path=os.path.join(dir_name,file_name)\n",
    "print(full_path)"
   ]
  },
  {
   "cell_type": "code",
   "execution_count": 7,
   "id": "8537ce5c",
   "metadata": {},
   "outputs": [
    {
     "name": "stdout",
     "output_type": "stream",
     "text": [
      "The path 'example1.txt' does not exists\n"
     ]
    }
   ],
   "source": [
    "path='example1.txt'\n",
    "if os.path.exists(path):\n",
    "    print(f\"the path '{path}' exists\" )\n",
    "else:\n",
    "    print(f\"The path '{path}' does not exists\")"
   ]
  }
 ],
 "metadata": {
  "kernelspec": {
   "display_name": "Python 3",
   "language": "python",
   "name": "python3"
  },
  "language_info": {
   "codemirror_mode": {
    "name": "ipython",
    "version": 3
   },
   "file_extension": ".py",
   "mimetype": "text/x-python",
   "name": "python",
   "nbconvert_exporter": "python",
   "pygments_lexer": "ipython3",
   "version": "3.10.0"
  }
 },
 "nbformat": 4,
 "nbformat_minor": 5
}
