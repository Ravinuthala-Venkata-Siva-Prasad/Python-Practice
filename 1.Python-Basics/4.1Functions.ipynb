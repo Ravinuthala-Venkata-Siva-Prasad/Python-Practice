{
 "cells": [
  {
   "cell_type": "code",
   "execution_count": 1,
   "id": "a833674e",
   "metadata": {},
   "outputs": [],
   "source": [
    "##Functions"
   ]
  },
  {
   "cell_type": "code",
   "execution_count": 2,
   "id": "40f60b34",
   "metadata": {},
   "outputs": [],
   "source": [
    "def function_name(parameter):\n",
    "    \"\"\"Docstring\"\"\"\n",
    "    ##Function body\n",
    "    return expression "
   ]
  },
  {
   "cell_type": "code",
   "execution_count": 3,
   "id": "afd0985a",
   "metadata": {},
   "outputs": [
    {
     "name": "stdout",
     "output_type": "stream",
     "text": [
      "Number is even\n"
     ]
    }
   ],
   "source": [
    "###why functions\n",
    "num = 24\n",
    "if num%2==0:\n",
    "    print(\"Number is even\")\n",
    "else:\n",
    "    print(\"Number is odd\")"
   ]
  },
  {
   "cell_type": "code",
   "execution_count": 4,
   "id": "8f00115b",
   "metadata": {},
   "outputs": [],
   "source": [
    "def even_or_odd(num):\n",
    "    \"\"\"this function is find even_or_odd\"\"\"\n",
    "    if num%2==0:\n",
    "        print(\"even\")\n",
    "    else:\n",
    "        print(\"odd\")"
   ]
  },
  {
   "cell_type": "code",
   "execution_count": 5,
   "id": "e0b96bea",
   "metadata": {},
   "outputs": [
    {
     "name": "stdout",
     "output_type": "stream",
     "text": [
      "odd\n"
     ]
    }
   ],
   "source": [
    "##Call this Function\n",
    "even_or_odd(15)"
   ]
  },
  {
   "cell_type": "code",
   "execution_count": 6,
   "id": "e66a13dc",
   "metadata": {},
   "outputs": [
    {
     "name": "stdout",
     "output_type": "stream",
     "text": [
      "12\n"
     ]
    }
   ],
   "source": [
    "###Functions With Multiple parameters\n",
    "\n",
    "def add(a,b):\n",
    "    return(a+b)\n",
    "result=add(2,10)\n",
    "print(result)"
   ]
  },
  {
   "cell_type": "code",
   "execution_count": 7,
   "id": "c0443d9d",
   "metadata": {},
   "outputs": [
    {
     "name": "stdout",
     "output_type": "stream",
     "text": [
      "Hello siva Welcome To the Paradise\n"
     ]
    }
   ],
   "source": [
    "###defult parameters\n",
    "def greet(name):\n",
    "    print(f\"Hello {name} Welcome To the Paradise\")\n",
    "greet(\"siva\")"
   ]
  },
  {
   "cell_type": "code",
   "execution_count": 12,
   "id": "3bec036b",
   "metadata": {},
   "outputs": [],
   "source": [
    "### Variable Length Arguments\n",
    "### Positional And Keywords arguments\n",
    "\n",
    "def print_number(*Shiva):\n",
    "    for number in Shiva:\n",
    "        print(number)\n"
   ]
  },
  {
   "cell_type": "code",
   "execution_count": 14,
   "id": "33c0ceeb",
   "metadata": {},
   "outputs": [
    {
     "name": "stdout",
     "output_type": "stream",
     "text": [
      "1\n",
      "2\n",
      "3\n",
      "4\n",
      "5\n",
      "6\n",
      "7\n",
      "8\n"
     ]
    }
   ],
   "source": [
    "print_number(1,2,3,4,5,6,7,8)"
   ]
  },
  {
   "cell_type": "code",
   "execution_count": 16,
   "id": "84b4bef6",
   "metadata": {},
   "outputs": [
    {
     "name": "stdout",
     "output_type": "stream",
     "text": [
      "1\n",
      "2\n",
      "3\n",
      "4\n"
     ]
    }
   ],
   "source": [
    "## Postional Auguments\n",
    "def print_details(*args):\n",
    "    for number in args:\n",
    "        print(number)\n",
    "        \n",
    "print_details(1,2,3,4)"
   ]
  },
  {
   "cell_type": "code",
   "execution_count": null,
   "id": "165ec714",
   "metadata": {},
   "outputs": [],
   "source": [
    "### Keywords Arguments\n",
    "\n",
    "def print_information(**Kwargs):  ## Double ** is very important \n",
    "    for key,value in Kwargs.items():\n",
    "        print(f\"{key}:{value}\")\n",
    "    \n"
   ]
  },
  {
   "cell_type": "code",
   "execution_count": 27,
   "id": "ecfb9e90",
   "metadata": {},
   "outputs": [
    {
     "name": "stdout",
     "output_type": "stream",
     "text": [
      "name:Shiva\n",
      "age:25\n",
      "country:India\n"
     ]
    }
   ],
   "source": [
    "print_information(name=\"Shiva\",age=25,country=\"India\")"
   ]
  },
  {
   "cell_type": "code",
   "execution_count": 28,
   "id": "80543f01",
   "metadata": {},
   "outputs": [],
   "source": [
    "def print_information(*args,**Kwargs):\n",
    "    for val in args:\n",
    "        print(f\"Positional arument :{val}\")\n",
    "    \n",
    "    for key,value in Kwargs.items():\n",
    "        print(f\"{key}:{value}\")    \n"
   ]
  },
  {
   "cell_type": "code",
   "execution_count": 29,
   "id": "4035ea1e",
   "metadata": {},
   "outputs": [
    {
     "name": "stdout",
     "output_type": "stream",
     "text": [
      "Positional arument :1\n",
      "Positional arument :2\n",
      "Positional arument :3\n",
      "name:Shiva\n",
      "age:25\n",
      "country:India\n"
     ]
    }
   ],
   "source": [
    "print_information(1,2,3,name=\"Shiva\",age=25,country=\"India\")"
   ]
  },
  {
   "cell_type": "code",
   "execution_count": 30,
   "id": "d178473c",
   "metadata": {},
   "outputs": [
    {
     "data": {
      "text/plain": [
       "30"
      ]
     },
     "execution_count": 30,
     "metadata": {},
     "output_type": "execute_result"
    }
   ],
   "source": [
    "### return Statement\n",
    "def multiply(a,b):\n",
    "    return(a*b)\n",
    "\n",
    "multiply(5,6)"
   ]
  },
  {
   "cell_type": "code",
   "execution_count": 31,
   "id": "8df94ddb",
   "metadata": {},
   "outputs": [
    {
     "data": {
      "text/plain": [
       "(100, 20)"
      ]
     },
     "execution_count": 31,
     "metadata": {},
     "output_type": "execute_result"
    }
   ],
   "source": [
    "#### Return Multiple parameters\n",
    "def mult(a,b):\n",
    "    return a*b,a\n",
    "\n",
    "mult(20,5)"
   ]
  }
 ],
 "metadata": {
  "kernelspec": {
   "display_name": "Python 3",
   "language": "python",
   "name": "python3"
  },
  "language_info": {
   "codemirror_mode": {
    "name": "ipython",
    "version": 3
   },
   "file_extension": ".py",
   "mimetype": "text/x-python",
   "name": "python",
   "nbconvert_exporter": "python",
   "pygments_lexer": "ipython3",
   "version": "3.10.0"
  }
 },
 "nbformat": 4,
 "nbformat_minor": 5
}
