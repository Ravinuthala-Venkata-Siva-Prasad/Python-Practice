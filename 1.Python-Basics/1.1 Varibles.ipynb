{
 "cells": [
  {
   "cell_type": "code",
   "execution_count": 1,
   "id": "a9b8b5a7",
   "metadata": {},
   "outputs": [],
   "source": [
    "###Varibles are Fundamental Element in programming used to store the Data that Can be referenced and manipulated in a program in python ."
   ]
  },
  {
   "cell_type": "code",
   "execution_count": 2,
   "id": "58f2d96b",
   "metadata": {},
   "outputs": [],
   "source": [
    "a=100"
   ]
  },
  {
   "cell_type": "code",
   "execution_count": 3,
   "id": "f1cd7f89",
   "metadata": {},
   "outputs": [
    {
     "name": "stdout",
     "output_type": "stream",
     "text": [
      "25\n",
      "178cm\n",
      "Siva\n"
     ]
    }
   ],
   "source": [
    "#Declaring and Assigning Varibles\n",
    "age=25\n",
    "height= \"178cm\"\n",
    "name=\"Siva\"\n",
    "is_student=True\n",
    "\n",
    "print(age)\n",
    "print(height)\n",
    "print(name)"
   ]
  },
  {
   "cell_type": "code",
   "execution_count": 4,
   "id": "0053c87b",
   "metadata": {},
   "outputs": [],
   "source": [
    "### Valid Varible  Names\n",
    "\n",
    "first_name=\"Venkata\"\n",
    "Last_name=\"Prasad\""
   ]
  },
  {
   "cell_type": "code",
   "execution_count": null,
   "id": "06d606f6",
   "metadata": {},
   "outputs": [],
   "source": [
    "name=\"Venkata\"\n",
    "Name=\"siva\"\n"
   ]
  },
  {
   "cell_type": "code",
   "execution_count": 7,
   "id": "94e1a229",
   "metadata": {},
   "outputs": [
    {
     "name": "stdout",
     "output_type": "stream",
     "text": [
      "<class 'str'>\n"
     ]
    }
   ],
   "source": [
    "###Understanding Varibles Types\n",
    "age=25 #int\n",
    "height=5.11 #float\n",
    "name=\"Siva\" #str\n",
    "is_student=True #bool\n",
    "\n",
    "print(type(name))\n",
    "\n"
   ]
  },
  {
   "cell_type": "code",
   "execution_count": 8,
   "id": "66b21d00",
   "metadata": {},
   "outputs": [
    {
     "data": {
      "text/plain": [
       "float"
      ]
     },
     "execution_count": 8,
     "metadata": {},
     "output_type": "execute_result"
    }
   ],
   "source": [
    "type(height)"
   ]
  },
  {
   "cell_type": "code",
   "execution_count": 9,
   "id": "95614b7d",
   "metadata": {},
   "outputs": [
    {
     "name": "stdout",
     "output_type": "stream",
     "text": [
      "<class 'int'>\n",
      "25\n",
      "<class 'str'>\n"
     ]
    }
   ],
   "source": [
    "age=25\n",
    "print(type(age))\n",
    "\n",
    "#type Conversion\n",
    "age_str=str(age)\n",
    "print(age_str)\n",
    "print(type(age_str))"
   ]
  },
  {
   "cell_type": "code",
   "execution_count": 15,
   "id": "b561b0c0",
   "metadata": {},
   "outputs": [
    {
     "name": "stdout",
     "output_type": "stream",
     "text": [
      "10 <class 'int'>\n",
      "Hello <class 'str'>\n",
      "3.14 <class 'float'>\n"
     ]
    }
   ],
   "source": [
    "##Dynamic Typing \n",
    "var=10\n",
    "print(var,type(var))\n",
    "\n",
    "var=\"Hello\"\n",
    "print(var,type(var))\n",
    "\n",
    "var=3.14\n",
    "print(var,type(var))\n"
   ]
  },
  {
   "cell_type": "code",
   "execution_count": 17,
   "id": "a7673749",
   "metadata": {},
   "outputs": [
    {
     "name": "stdout",
     "output_type": "stream",
     "text": [
      "25 <class 'int'>\n"
     ]
    }
   ],
   "source": [
    "age=int(input(\"what is the Age\"))\n",
    "print(age,type(age))"
   ]
  },
  {
   "cell_type": "code",
   "execution_count": 21,
   "id": "756e1c29",
   "metadata": {},
   "outputs": [
    {
     "name": "stdout",
     "output_type": "stream",
     "text": [
      "Sum: 79.0\n",
      "Subtration 31.0\n",
      "difference 1320.0\n",
      "division 2.2916666666666665\n"
     ]
    }
   ],
   "source": [
    "### Simple Calculator\n",
    "num1=float(input(\"Enter First Number\"))\n",
    "num2=float(input(\"Enter Second Number\"))\n",
    "\n",
    "sum = num1 + num2\n",
    "Subtration= num1 - num2\n",
    "product= num1*num2\n",
    "quotient=num1/num2\n",
    "\n",
    "print(\"Sum:\", sum)\n",
    "print(\"Subtration\", Subtration)\n",
    "print(\"difference\", product)\n",
    "print(\"division\", quotient)"
   ]
  }
 ],
 "metadata": {
  "kernelspec": {
   "display_name": "Python 3",
   "language": "python",
   "name": "python3"
  },
  "language_info": {
   "codemirror_mode": {
    "name": "ipython",
    "version": 3
   },
   "file_extension": ".py",
   "mimetype": "text/x-python",
   "name": "python",
   "nbconvert_exporter": "python",
   "pygments_lexer": "ipython3",
   "version": "3.10.0"
  }
 },
 "nbformat": 4,
 "nbformat_minor": 5
}
