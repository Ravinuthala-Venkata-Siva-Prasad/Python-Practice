{
 "cells": [
  {
   "cell_type": "code",
   "execution_count": null,
   "id": "77c5014f",
   "metadata": {},
   "outputs": [],
   "source": [
    "###Synatax and Semantices in Python "
   ]
  },
  {
   "cell_type": "code",
   "execution_count": null,
   "id": "7ca45d7c",
   "metadata": {},
   "outputs": [
    {
     "name": "stdout",
     "output_type": "stream",
     "text": [
      "Siva\n",
      "SIVA\n"
     ]
    }
   ],
   "source": [
    "#basic senatax Rule in python \n",
    "#Case Sensitivity- python is Case Sentivitie \n",
    "name = \"Siva\"\n",
    "Name = \"Ravinuthala\"\n",
    "\n",
    "print(name)\n",
    "print(Name)"
   ]
  },
  {
   "cell_type": "code",
   "execution_count": 5,
   "id": "0199d364",
   "metadata": {},
   "outputs": [
    {
     "name": "stdout",
     "output_type": "stream",
     "text": [
      "35\n",
      "35\n"
     ]
    }
   ],
   "source": [
    "#Indentation \n",
    "#Python use Indentaion to Define block of Code\n",
    "age = 35\n",
    "if age>30:\n",
    "    print(age)\n",
    "else:\n",
    "    print(\"Not Valid\")\n",
    "print(age)\n"
   ]
  },
  {
   "cell_type": "code",
   "execution_count": null,
   "id": "b0e10e9d",
   "metadata": {},
   "outputs": [
    {
     "name": "stdout",
     "output_type": "stream",
     "text": [
      "45\n"
     ]
    }
   ],
   "source": [
    "### Line Continuation \n",
    "### Use a backslash (\\) to Continue a statement to the Next Line \n",
    "Addition = 1+2+3+4+5+6+\\\n",
    "7+8+9\n",
    "\n",
    "print(Addition)\n"
   ]
  },
  {
   "cell_type": "code",
   "execution_count": 10,
   "id": "37d6a159",
   "metadata": {},
   "outputs": [
    {
     "name": "stdout",
     "output_type": "stream",
     "text": [
      "30\n"
     ]
    }
   ],
   "source": [
    "### multiple line on a Single line\n",
    "X=10 ;y=20;  Z=X+y \n",
    "print(Z)"
   ]
  },
  {
   "cell_type": "code",
   "execution_count": null,
   "id": "8dd4b365",
   "metadata": {},
   "outputs": [
    {
     "data": {
      "text/plain": [
       "int"
      ]
     },
     "execution_count": 12,
     "metadata": {},
     "output_type": "execute_result"
    }
   ],
   "source": [
    "###UnderStand semnatics in python \n",
    "## Variable Assignment \n",
    "age = 25\n",
    "Name = \"Siva Prasad\"\n",
    "type(age)"
   ]
  },
  {
   "cell_type": "code",
   "execution_count": 15,
   "id": "2fa411a1",
   "metadata": {},
   "outputs": [
    {
     "data": {
      "text/plain": [
       "str"
      ]
     },
     "execution_count": 15,
     "metadata": {},
     "output_type": "execute_result"
    }
   ],
   "source": [
    "type(Name)"
   ]
  },
  {
   "cell_type": "code",
   "execution_count": 16,
   "id": "08cd286a",
   "metadata": {},
   "outputs": [
    {
     "name": "stdout",
     "output_type": "stream",
     "text": [
      "<class 'int'>\n",
      "<class 'str'>\n"
     ]
    }
   ],
   "source": [
    "print(type(age))\n",
    "print(type(Name))"
   ]
  },
  {
   "cell_type": "code",
   "execution_count": 17,
   "id": "f4521846",
   "metadata": {},
   "outputs": [
    {
     "ename": "NameError",
     "evalue": "name 'b' is not defined",
     "output_type": "error",
     "traceback": [
      "\u001b[1;31m---------------------------------------------------------------------------\u001b[0m",
      "\u001b[1;31mNameError\u001b[0m                                 Traceback (most recent call last)",
      "Cell \u001b[1;32mIn[17], line 2\u001b[0m\n\u001b[0;32m      1\u001b[0m \u001b[38;5;66;03m## Name Error \u001b[39;00m\n\u001b[1;32m----> 2\u001b[0m a \u001b[38;5;241m=\u001b[39m \u001b[43mb\u001b[49m\n",
      "\u001b[1;31mNameError\u001b[0m: name 'b' is not defined"
     ]
    }
   ],
   "source": [
    "## Name Error \n",
    "a = b"
   ]
  },
  {
   "cell_type": "code",
   "execution_count": 20,
   "id": "13dfe04a",
   "metadata": {},
   "outputs": [
    {
     "name": "stdout",
     "output_type": "stream",
     "text": [
      "Valid\n",
      "he is Matuar\n",
      "Task Completed\n"
     ]
    }
   ],
   "source": [
    "#3 Code Example of Indentation\n",
    "a = 32\n",
    "if True:\n",
    "    a>30;\n",
    "    print(\"Valid\")\n",
    "    if False:\n",
    "        print(\"He is a Junior\")\n",
    "    print(\"he is Matuar\")\n",
    "print(\"Task Completed\")"
   ]
  }
 ],
 "metadata": {
  "kernelspec": {
   "display_name": "Python 3",
   "language": "python",
   "name": "python3"
  },
  "language_info": {
   "codemirror_mode": {
    "name": "ipython",
    "version": 3
   },
   "file_extension": ".py",
   "mimetype": "text/x-python",
   "name": "python",
   "nbconvert_exporter": "python",
   "pygments_lexer": "ipython3",
   "version": "3.10.0"
  }
 },
 "nbformat": 4,
 "nbformat_minor": 5
}
