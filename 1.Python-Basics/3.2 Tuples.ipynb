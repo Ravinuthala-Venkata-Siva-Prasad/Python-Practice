{
 "cells": [
  {
   "cell_type": "code",
   "execution_count": 1,
   "id": "bb11fdf7",
   "metadata": {},
   "outputs": [],
   "source": [
    "###Tubles"
   ]
  },
  {
   "cell_type": "code",
   "execution_count": 2,
   "id": "87e9beac",
   "metadata": {},
   "outputs": [
    {
     "name": "stdout",
     "output_type": "stream",
     "text": [
      "()\n",
      "<class 'tuple'>\n"
     ]
    }
   ],
   "source": [
    "empty_tuple=()\n",
    "print(empty_tuple)\n",
    "print(type(empty_tuple))"
   ]
  },
  {
   "cell_type": "code",
   "execution_count": 6,
   "id": "62f1df2f",
   "metadata": {},
   "outputs": [
    {
     "name": "stdout",
     "output_type": "stream",
     "text": [
      "<class 'tuple'>\n"
     ]
    }
   ],
   "source": [
    "numbers=(1,2,3,4,5,6)\n",
    "print(type(numbers))"
   ]
  },
  {
   "cell_type": "code",
   "execution_count": 11,
   "id": "ddd037be",
   "metadata": {},
   "outputs": [
    {
     "data": {
      "text/plain": [
       "[1, 2, 3, 4, 5, 6]"
      ]
     },
     "execution_count": 11,
     "metadata": {},
     "output_type": "execute_result"
    }
   ],
   "source": [
    "list([1,2,3,4,5,6])"
   ]
  },
  {
   "cell_type": "code",
   "execution_count": 12,
   "id": "c158cd29",
   "metadata": {},
   "outputs": [
    {
     "name": "stdout",
     "output_type": "stream",
     "text": [
      "(1, 4, 'jack', 'Hello', 'Speed', ' hey', 3.14, True)\n"
     ]
    }
   ],
   "source": [
    "Mixed_tuples=(1,4,\"jack\",\"Hello\",\"Speed\",\" hey\",3.14,True)\n",
    "print(Mixed_tuples)"
   ]
  },
  {
   "cell_type": "code",
   "execution_count": 14,
   "id": "05a9b3e2",
   "metadata": {},
   "outputs": [
    {
     "data": {
      "text/plain": [
       "(1, 2, 3, 4, 5, 6)"
      ]
     },
     "execution_count": 14,
     "metadata": {},
     "output_type": "execute_result"
    }
   ],
   "source": [
    "numbers"
   ]
  },
  {
   "cell_type": "code",
   "execution_count": 17,
   "id": "abb3f5c8",
   "metadata": {},
   "outputs": [
    {
     "name": "stdout",
     "output_type": "stream",
     "text": [
      "Speed\n"
     ]
    }
   ],
   "source": [
    "print(Mixed_tuples[4])"
   ]
  },
  {
   "cell_type": "code",
   "execution_count": 18,
   "id": "b630f963",
   "metadata": {},
   "outputs": [
    {
     "name": "stdout",
     "output_type": "stream",
     "text": [
      "(1, 2, 3, 4, 5, 6, 1, 4, 'jack', 'Hello', 'Speed', ' hey', 3.14, True)\n"
     ]
    }
   ],
   "source": [
    "ADD_Tuples=numbers + Mixed_tuples\n",
    "print(ADD_Tuples)"
   ]
  },
  {
   "cell_type": "code",
   "execution_count": 19,
   "id": "3afc75ca",
   "metadata": {},
   "outputs": [
    {
     "data": {
      "text/plain": [
       "(1,\n",
       " 4,\n",
       " 'jack',\n",
       " 'Hello',\n",
       " 'Speed',\n",
       " ' hey',\n",
       " 3.14,\n",
       " True,\n",
       " 1,\n",
       " 4,\n",
       " 'jack',\n",
       " 'Hello',\n",
       " 'Speed',\n",
       " ' hey',\n",
       " 3.14,\n",
       " True,\n",
       " 1,\n",
       " 4,\n",
       " 'jack',\n",
       " 'Hello',\n",
       " 'Speed',\n",
       " ' hey',\n",
       " 3.14,\n",
       " True)"
      ]
     },
     "execution_count": 19,
     "metadata": {},
     "output_type": "execute_result"
    }
   ],
   "source": [
    "Mixed_tuples*3"
   ]
  },
  {
   "cell_type": "code",
   "execution_count": 20,
   "id": "95181961",
   "metadata": {},
   "outputs": [
    {
     "name": "stdout",
     "output_type": "stream",
     "text": [
      "(1, 'Tiger', 'Lets Do')\n"
     ]
    }
   ],
   "source": [
    "###Packing and Unpacking tuples\n",
    "\n",
    "##packing Tuples\n",
    "packed_tuples=(1,\"Tiger\",\"Lets Do\")\n",
    "print(packed_tuples)"
   ]
  },
  {
   "cell_type": "code",
   "execution_count": 21,
   "id": "358d4893",
   "metadata": {},
   "outputs": [
    {
     "name": "stdout",
     "output_type": "stream",
     "text": [
      "1\n",
      "Tiger\n",
      "Lets Do\n"
     ]
    }
   ],
   "source": [
    "### Unpacking Tuples\n",
    "a,b,c=packed_tuples\n",
    "print(a)\n",
    "print(b)\n",
    "print(c)\n"
   ]
  },
  {
   "cell_type": "code",
   "execution_count": 25,
   "id": "9268350b",
   "metadata": {},
   "outputs": [
    {
     "name": "stdout",
     "output_type": "stream",
     "text": [
      "1\n",
      "[2, 3, 4, 5]\n",
      "6\n"
     ]
    }
   ],
   "source": [
    "##\n",
    "numbers_tuples=(1,2,3,4,5,6)\n",
    "first,*middle,Last=numbers_tuples\n",
    "print(first)\n",
    "print(middle)\n",
    "print(Last)"
   ]
  },
  {
   "cell_type": "code",
   "execution_count": 26,
   "id": "a751d9dd",
   "metadata": {},
   "outputs": [
    {
     "data": {
      "text/plain": [
       "'seeyou'"
      ]
     },
     "execution_count": 26,
     "metadata": {},
     "output_type": "execute_result"
    }
   ],
   "source": [
    "###Nested List\n",
    "lst=[[1,2,3],[\"hi\",\"bye\",\"seeyou\"],[2.11,1.22,3.14]]\n",
    "lst[1][2]"
   ]
  },
  {
   "cell_type": "code",
   "execution_count": 27,
   "id": "8a8eaac3",
   "metadata": {},
   "outputs": [
    {
     "data": {
      "text/plain": [
       "3.14"
      ]
     },
     "execution_count": 27,
     "metadata": {},
     "output_type": "execute_result"
    }
   ],
   "source": [
    "###Nested Tuples\n",
    "tup=((1,2,3),(\"hi\",\"bye\",\"seeyou\"),(2.11,1.22,3.14))\n",
    "tup[2][2]"
   ]
  },
  {
   "cell_type": "code",
   "execution_count": 30,
   "id": "1b43a702",
   "metadata": {},
   "outputs": [
    {
     "name": "stdout",
     "output_type": "stream",
     "text": [
      "1 2 3 \n",
      "hi bye seeyou \n",
      "2.11 1.22 3.14 \n"
     ]
    }
   ],
   "source": [
    "for sub_tuples in tup:\n",
    "    for items in sub_tuples:\n",
    "        print(items,end=\" \")\n",
    "    print()"
   ]
  },
  {
   "cell_type": "code",
   "execution_count": null,
   "id": "935d31dc",
   "metadata": {},
   "outputs": [],
   "source": []
  }
 ],
 "metadata": {
  "kernelspec": {
   "display_name": "Python 3",
   "language": "python",
   "name": "python3"
  },
  "language_info": {
   "codemirror_mode": {
    "name": "ipython",
    "version": 3
   },
   "file_extension": ".py",
   "mimetype": "text/x-python",
   "name": "python",
   "nbconvert_exporter": "python",
   "pygments_lexer": "ipython3",
   "version": "3.10.0"
  }
 },
 "nbformat": 4,
 "nbformat_minor": 5
}
