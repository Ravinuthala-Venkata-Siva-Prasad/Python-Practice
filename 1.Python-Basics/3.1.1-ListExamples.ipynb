{
 "cells": [
  {
   "cell_type": "code",
   "execution_count": null,
   "id": "1ebc500f",
   "metadata": {},
   "outputs": [],
   "source": [
    "###Real World Examples Using Lists"
   ]
  },
  {
   "cell_type": "code",
   "execution_count": 7,
   "id": "dcc6c851",
   "metadata": {},
   "outputs": [
    {
     "name": "stdout",
     "output_type": "stream",
     "text": [
      "Don't forgot to go to Gym\n",
      "To Do List Reminding\n",
      "-Gym\n",
      "-Study\n",
      "-Reading Boks\n",
      "-Dance\n",
      "-sing\n"
     ]
    }
   ],
   "source": [
    "to_do_list=[\"Gym\",\"Study\",\"Work\",\"Reading Boks\"]\n",
    "\n",
    "###Adding a Work\n",
    "to_do_list.append(\"Dance\")\n",
    "to_do_list.append(\"sing\")\n",
    "\n",
    "##remove a task\n",
    "to_do_list.remove(\"Work\")\n",
    "\n",
    "##Check if task is in the list\n",
    "if \"Gym\" in to_do_list:\n",
    "    print(\"Don't forgot to go to Gym\")\n",
    "print(\"To Do List Reminding\")\n",
    "for task in to_do_list:\n",
    "    print(f\"-{task}\")\n",
    "\n"
   ]
  }
 ],
 "metadata": {
  "kernelspec": {
   "display_name": "Python 3",
   "language": "python",
   "name": "python3"
  },
  "language_info": {
   "codemirror_mode": {
    "name": "ipython",
    "version": 3
   },
   "file_extension": ".py",
   "mimetype": "text/x-python",
   "name": "python",
   "nbconvert_exporter": "python",
   "pygments_lexer": "ipython3",
   "version": "3.10.0"
  }
 },
 "nbformat": 4,
 "nbformat_minor": 5
}
