{
 "cells": [
  {
   "cell_type": "code",
   "execution_count": 1,
   "id": "a9a4a198",
   "metadata": {},
   "outputs": [],
   "source": [
    "###Filter() Function"
   ]
  },
  {
   "cell_type": "code",
   "execution_count": 2,
   "id": "39d54ef4",
   "metadata": {},
   "outputs": [],
   "source": [
    "def even(num):\n",
    "    if num%2==0:\n",
    "        return True\n",
    "    "
   ]
  },
  {
   "cell_type": "code",
   "execution_count": 3,
   "id": "07fde106",
   "metadata": {},
   "outputs": [
    {
     "data": {
      "text/plain": [
       "True"
      ]
     },
     "execution_count": 3,
     "metadata": {},
     "output_type": "execute_result"
    }
   ],
   "source": [
    "even(4)"
   ]
  },
  {
   "cell_type": "code",
   "execution_count": 5,
   "id": "80e2d50c",
   "metadata": {},
   "outputs": [
    {
     "name": "stdout",
     "output_type": "stream",
     "text": [
      "[2, 4, 6, 8]\n"
     ]
    }
   ],
   "source": [
    "lst=[1,2,3,4,5,6,7,8,9]\n",
    "even_numbers=list(filter(even,lst))\n",
    "print(even_numbers)"
   ]
  },
  {
   "cell_type": "code",
   "execution_count": 7,
   "id": "2b3dad12",
   "metadata": {},
   "outputs": [
    {
     "name": "stdout",
     "output_type": "stream",
     "text": [
      "[8, 9, 10, 11]\n"
     ]
    }
   ],
   "source": [
    "### Filter with Lambda function\n",
    "numbers=[1,2,3,4,5,6,7,8,9,10,11]\n",
    "greater_than_seven=list(filter(lambda x:x>7,numbers))\n",
    "print(greater_than_seven)"
   ]
  },
  {
   "cell_type": "code",
   "execution_count": 9,
   "id": "f536d0f8",
   "metadata": {},
   "outputs": [
    {
     "name": "stdout",
     "output_type": "stream",
     "text": [
      "[2, 4, 6, 8]\n"
     ]
    }
   ],
   "source": [
    "####Lambda multiple condition with Filters\n",
    "numbers=[1,2,3,4,5,6,7,8,9,10,11]\n",
    "multiple_condition=list(filter(lambda x:x<10 and x%2==0,numbers))\n",
    "print(multiple_condition)"
   ]
  },
  {
   "cell_type": "code",
   "execution_count": 14,
   "id": "28f3a84d",
   "metadata": {},
   "outputs": [
    {
     "data": {
      "text/plain": [
       "[{'name': 'prasad', 'age': 25}, {'name': 'jack', 'age': 26}]"
      ]
     },
     "execution_count": 14,
     "metadata": {},
     "output_type": "execute_result"
    }
   ],
   "source": [
    "###filter() to check if the age is grater than 25 in dictionaries\n",
    "people=[\n",
    "    {'name':\"siva\",\"age\":24},\n",
    "    {\"name\":\"prasad\",\"age\":25},\n",
    "    {\"name\":\"jack\",\"age\":26}\n",
    "]\n",
    "def age_grater_than_24(person):\n",
    "    return person[\"age\"]>24\n",
    "\n",
    "list(filter(age_grater_than_24,people)) "
   ]
  }
 ],
 "metadata": {
  "kernelspec": {
   "display_name": "Python 3",
   "language": "python",
   "name": "python3"
  },
  "language_info": {
   "codemirror_mode": {
    "name": "ipython",
    "version": 3
   },
   "file_extension": ".py",
   "mimetype": "text/x-python",
   "name": "python",
   "nbconvert_exporter": "python",
   "pygments_lexer": "ipython3",
   "version": "3.10.0"
  }
 },
 "nbformat": 4,
 "nbformat_minor": 5
}
