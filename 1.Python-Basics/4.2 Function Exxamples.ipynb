{
 "cells": [
  {
   "cell_type": "code",
   "execution_count": 1,
   "id": "eb78789f",
   "metadata": {},
   "outputs": [],
   "source": [
    "###Functions Example "
   ]
  },
  {
   "cell_type": "code",
   "execution_count": 4,
   "id": "283eee1b",
   "metadata": {},
   "outputs": [],
   "source": [
    "###Temperature Conversion"
   ]
  },
  {
   "cell_type": "code",
   "execution_count": 5,
   "id": "c234a32b",
   "metadata": {},
   "outputs": [
    {
     "name": "stdout",
     "output_type": "stream",
     "text": [
      "102.2\n",
      "21.11111111111111\n"
     ]
    }
   ],
   "source": [
    "def convert_temperature(temp,unit):\n",
    "    \"\"\"This Function Convert Temperature between Celsius and Fahrenheit\"\"\"\n",
    "    if unit==\"C\":\n",
    "        return temp*9/5 + 32\n",
    "    elif unit==\"F\":\n",
    "        return (temp-32)*5/9\n",
    "    else:\n",
    "        return None\n",
    "print(convert_temperature(39,\"C\"))\n",
    "print(convert_temperature(70,\"F\"))\n",
    "    \n",
    "    "
   ]
  },
  {
   "cell_type": "code",
   "execution_count": 6,
   "id": "ceeda0ef",
   "metadata": {},
   "outputs": [],
   "source": [
    "###Password Strength Checker"
   ]
  },
  {
   "cell_type": "code",
   "execution_count": null,
   "id": "b4d60727",
   "metadata": {},
   "outputs": [
    {
     "name": "stdout",
     "output_type": "stream",
     "text": [
      "False\n",
      "True\n"
     ]
    }
   ],
   "source": [
    "def is_strong_password(password):\n",
    "    \"\"\"This Function checks if the password is Strong or not\"\"\"\n",
    "    if len(password)<8:\n",
    "        return False\n",
    "    if not any(char.isdigit() for char in password):\n",
    "        return False\n",
    "    if not any(char.islower() for char in password):\n",
    "        return False\n",
    "    if not any(char.isupper() for char in password):\n",
    "        return False\n",
    "    if not any(char in '!@#$%^&()_+' for char in password):\n",
    "        return False\n",
    "    return True\n",
    "\n",
    "## Clling the Function\n",
    "print(is_strong_password(\"weakpwd\"))\n",
    "print(is_strong_password(\"Str0ngPwd!\"))"
   ]
  },
  {
   "cell_type": "code",
   "execution_count": null,
   "id": "6141257c",
   "metadata": {},
   "outputs": [],
   "source": [
    "###Calculate the Total Cost Of Items in a Shopping Cart "
   ]
  },
  {
   "cell_type": "code",
   "execution_count": 9,
   "id": "eaee8662",
   "metadata": {},
   "outputs": [
    {
     "name": "stdout",
     "output_type": "stream",
     "text": [
      "5.8999999999999995\n"
     ]
    }
   ],
   "source": [
    "def Calculate_total_cost(cart):\n",
    "    total_cost=0\n",
    "    for item in cart:\n",
    "        total_cost+= item[\"price\"]* item[\"quantity\"]\n",
    "        \n",
    "    return total_cost\n",
    "\n",
    "### Example cart data\n",
    "\n",
    "cart=[\n",
    "    {\"name\":'Apple', 'price':0.5, 'quantity':4},\n",
    "    {\"name\":'Banana', 'price':0.3, 'quantity':6},\n",
    "    {\"name\": \"Orange\", 'price':0.7, 'quantity':3}\n",
    "]\n",
    "\n",
    "## calling the Function \n",
    "total_cost=Calculate_total_cost(cart)\n",
    "print(total_cost)"
   ]
  }
 ],
 "metadata": {
  "kernelspec": {
   "display_name": "Python 3",
   "language": "python",
   "name": "python3"
  },
  "language_info": {
   "codemirror_mode": {
    "name": "ipython",
    "version": 3
   },
   "file_extension": ".py",
   "mimetype": "text/x-python",
   "name": "python",
   "nbconvert_exporter": "python",
   "pygments_lexer": "ipython3",
   "version": "3.10.0"
  }
 },
 "nbformat": 4,
 "nbformat_minor": 5
}
