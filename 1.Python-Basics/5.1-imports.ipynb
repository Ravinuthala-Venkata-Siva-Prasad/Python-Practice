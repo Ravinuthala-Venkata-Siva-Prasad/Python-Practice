{
 "cells": [
  {
   "cell_type": "code",
   "execution_count": 1,
   "id": "801244be",
   "metadata": {},
   "outputs": [],
   "source": [
    "###Importing"
   ]
  },
  {
   "cell_type": "code",
   "execution_count": 4,
   "id": "d770b4c9",
   "metadata": {},
   "outputs": [
    {
     "data": {
      "text/plain": [
       "2.23606797749979"
      ]
     },
     "execution_count": 4,
     "metadata": {},
     "output_type": "execute_result"
    }
   ],
   "source": [
    "import math\n",
    "math.sqrt(5)"
   ]
  },
  {
   "cell_type": "code",
   "execution_count": 5,
   "id": "4721c905",
   "metadata": {},
   "outputs": [
    {
     "name": "stdout",
     "output_type": "stream",
     "text": [
      "4.0\n",
      "5.0\n",
      "3.141592653589793\n"
     ]
    }
   ],
   "source": [
    "from math import sqrt,pi\n",
    "print(sqrt(16))\n",
    "print(math.sqrt(25))\n",
    "print(pi)"
   ]
  },
  {
   "cell_type": "code",
   "execution_count": 6,
   "id": "914f8f50",
   "metadata": {},
   "outputs": [
    {
     "data": {
      "text/plain": [
       "array([1, 2, 3, 4])"
      ]
     },
     "execution_count": 6,
     "metadata": {},
     "output_type": "execute_result"
    }
   ],
   "source": [
    "import numpy as np\n",
    "np.array([1,2,3,4])"
   ]
  },
  {
   "cell_type": "code",
   "execution_count": 8,
   "id": "8d73b08b",
   "metadata": {},
   "outputs": [
    {
     "ename": "ModuleNotFoundError",
     "evalue": "No module named 'package'",
     "output_type": "error",
     "traceback": [
      "\u001b[1;31m---------------------------------------------------------------------------\u001b[0m",
      "\u001b[1;31mModuleNotFoundError\u001b[0m                       Traceback (most recent call last)",
      "Cell \u001b[1;32mIn[8], line 1\u001b[0m\n\u001b[1;32m----> 1\u001b[0m \u001b[38;5;28;01mfrom\u001b[39;00m \u001b[38;5;21;01mpackage\u001b[39;00m \u001b[38;5;28;01mimport\u001b[39;00m maths\n\u001b[0;32m      2\u001b[0m math\u001b[38;5;241m.\u001b[39maddition(\u001b[38;5;241m2\u001b[39m,\u001b[38;5;241m5\u001b[39m)\n",
      "\u001b[1;31mModuleNotFoundError\u001b[0m: No module named 'package'"
     ]
    }
   ],
   "source": [
    "from package import maths\n",
    "math.addition(2,5)"
   ]
  }
 ],
 "metadata": {
  "kernelspec": {
   "display_name": "Python 3",
   "language": "python",
   "name": "python3"
  },
  "language_info": {
   "codemirror_mode": {
    "name": "ipython",
    "version": 3
   },
   "file_extension": ".py",
   "mimetype": "text/x-python",
   "name": "python",
   "nbconvert_exporter": "python",
   "pygments_lexer": "ipython3",
   "version": "3.10.0"
  }
 },
 "nbformat": 4,
 "nbformat_minor": 5
}
