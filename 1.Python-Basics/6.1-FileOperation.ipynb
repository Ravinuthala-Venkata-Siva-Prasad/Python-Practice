{
 "cells": [
  {
   "cell_type": "code",
   "execution_count": 1,
   "id": "ed519dc2",
   "metadata": {},
   "outputs": [],
   "source": [
    "###File Operation- Read and write files"
   ]
  },
  {
   "cell_type": "code",
   "execution_count": 2,
   "id": "4d39f851",
   "metadata": {},
   "outputs": [
    {
     "name": "stdout",
     "output_type": "stream",
     "text": [
      "Hello How are you?\n",
      "I am good\n",
      "Krish is my name\n",
      "Welcome to the course\n"
     ]
    }
   ],
   "source": [
    "### Read the whole file\n",
    "\n",
    "with open(\"siva-1.txt\",\"r\") as file:\n",
    "    content=file.read()\n",
    "    print(content)"
   ]
  },
  {
   "cell_type": "code",
   "execution_count": 3,
   "id": "8cffc8b8",
   "metadata": {},
   "outputs": [
    {
     "name": "stdout",
     "output_type": "stream",
     "text": [
      "Hello How are you?\n",
      "I am good\n",
      "Krish is my name\n",
      "Welcome to the course\n"
     ]
    }
   ],
   "source": [
    "## Read Line by Line\n",
    "\n",
    "with open(\"siva-1.txt\",'r') as file:\n",
    "    for line in file:\n",
    "        print(line.strip())   ## Strip() removes the newline character"
   ]
  },
  {
   "cell_type": "code",
   "execution_count": 8,
   "id": "28c54643",
   "metadata": {},
   "outputs": [],
   "source": [
    "## writing a file(overwriting)\n",
    "\n",
    "with open(\"siva-1.txt\",'w') as file:\n",
    "    file.write('New World!\\n')\n",
    "    file.write('this is my world')\n",
    "   "
   ]
  },
  {
   "cell_type": "code",
   "execution_count": 11,
   "id": "4bdc0222",
   "metadata": {},
   "outputs": [],
   "source": [
    "### Write a file (without overwriting)\n",
    "with open('siva-1.txt','a')as file:\n",
    "    file.write(\"Append operation taking place!\\n\")"
   ]
  },
  {
   "cell_type": "code",
   "execution_count": 22,
   "id": "ada72ec7",
   "metadata": {},
   "outputs": [],
   "source": [
    "### Writing a list of lines to a file\n",
    "lines=['First line \\n','Second line \\n','Third line\\n']\n",
    "with open('siva-1.txt','a') as file:\n",
    "    file.writelines(lines)"
   ]
  },
  {
   "cell_type": "code",
   "execution_count": 23,
   "id": "c580e2f5",
   "metadata": {},
   "outputs": [],
   "source": [
    "### binary files\n",
    "\n",
    "with open('siva-1.txt','wb') as file:\n",
    "    data=b'x12\\5522\\33223\\26..'\n",
    "    file.write(data)"
   ]
  },
  {
   "cell_type": "code",
   "execution_count": 24,
   "id": "fce7fb28",
   "metadata": {},
   "outputs": [
    {
     "name": "stdout",
     "output_type": "stream",
     "text": [
      "b'x12j2\\xda23\\x16..'\n"
     ]
    }
   ],
   "source": [
    "### read a binary file\n",
    "with open('siva-1.txt','rb') as file:\n",
    "    content=file.read()\n",
    "    print(content)\n",
    "    "
   ]
  },
  {
   "cell_type": "code",
   "execution_count": 25,
   "id": "ff08d62a",
   "metadata": {},
   "outputs": [],
   "source": [
    "####Read the content froma sourse text file and write to a destion text file\n",
    "#copying test file\n",
    "with open('siva-1.txt', 'r') as source_file:\n",
    "    content= source_file.read()\n",
    "    \n",
    "with open('destination.txt', 'w') as destination_file:\n",
    "    destination_file.write(content)"
   ]
  },
  {
   "cell_type": "code",
   "execution_count": 26,
   "id": "58087e1c",
   "metadata": {},
   "outputs": [
    {
     "name": "stdout",
     "output_type": "stream",
     "text": [
      "Lines: 1, Words: 1, Characters: 11\n"
     ]
    }
   ],
   "source": [
    "##Read a text file and count the number of lines, words, and characters.\n",
    "#Counting lines, words, and characters in text file\n",
    "def count_text_file(file_path):\n",
    "    with open(file_path, 'r') as file:\n",
    "        lines = file.readlines()\n",
    "        line_count = len(lines)\n",
    "        word_count = sum(len(line.split())for line in lines)\n",
    "        char_count = sum(len(line) for line in lines)\n",
    "    return line_count, word_count, char_count\n",
    "\n",
    "file_path = 'siva-1.txt'\n",
    "lines, words, characters = count_text_file(file_path)\n",
    "print(f'Lines: {lines}, Words: {words}, Characters: {characters}')"
   ]
  }
 ],
 "metadata": {
  "kernelspec": {
   "display_name": "Python 3",
   "language": "python",
   "name": "python3"
  },
  "language_info": {
   "codemirror_mode": {
    "name": "ipython",
    "version": 3
   },
   "file_extension": ".py",
   "mimetype": "text/x-python",
   "name": "python",
   "nbconvert_exporter": "python",
   "pygments_lexer": "ipython3",
   "version": "3.10.0"
  }
 },
 "nbformat": 4,
 "nbformat_minor": 5
}
