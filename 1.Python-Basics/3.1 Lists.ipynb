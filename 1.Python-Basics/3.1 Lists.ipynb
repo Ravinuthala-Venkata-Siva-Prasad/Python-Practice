{
 "cells": [
  {
   "cell_type": "code",
   "execution_count": 1,
   "id": "a7373fcf",
   "metadata": {},
   "outputs": [
    {
     "name": "stdout",
     "output_type": "stream",
     "text": [
      "<class 'list'>\n"
     ]
    }
   ],
   "source": [
    "##Lists\n",
    "Hello=[]\n",
    "print(type(Hello))"
   ]
  },
  {
   "cell_type": "code",
   "execution_count": 2,
   "id": "cc7179b0",
   "metadata": {},
   "outputs": [
    {
     "name": "stdout",
     "output_type": "stream",
     "text": [
      "['hi', 'Apple', 'Siva', 1, 2, 3]\n"
     ]
    }
   ],
   "source": [
    "names =[\"hi\", \"Apple\", \"Siva\",1,2,3]\n",
    "print(names)"
   ]
  },
  {
   "cell_type": "code",
   "execution_count": 3,
   "id": "c54638e5",
   "metadata": {},
   "outputs": [
    {
     "name": "stdout",
     "output_type": "stream",
     "text": [
      "Apple\n",
      "2\n",
      "1\n"
     ]
    }
   ],
   "source": [
    "print(names[1])\n",
    "print(names[-2])\n",
    "print(names[-3])"
   ]
  },
  {
   "cell_type": "code",
   "execution_count": 4,
   "id": "f81e5a49",
   "metadata": {},
   "outputs": [
    {
     "name": "stdout",
     "output_type": "stream",
     "text": [
      "['Apple', 'Siva', 1, 2]\n"
     ]
    }
   ],
   "source": [
    "print(names[1:5])"
   ]
  },
  {
   "cell_type": "code",
   "execution_count": 5,
   "id": "b2d423ee",
   "metadata": {},
   "outputs": [
    {
     "name": "stdout",
     "output_type": "stream",
     "text": [
      "['Apple', 'Siva', 1, 2, 3]\n"
     ]
    }
   ],
   "source": [
    "print(names[1:])"
   ]
  },
  {
   "cell_type": "code",
   "execution_count": 6,
   "id": "e1d64820",
   "metadata": {},
   "outputs": [
    {
     "name": "stdout",
     "output_type": "stream",
     "text": [
      "['hi', 'Apple', 'Siva', 1, 2]\n"
     ]
    }
   ],
   "source": [
    "print(names[:-1])"
   ]
  },
  {
   "cell_type": "code",
   "execution_count": 7,
   "id": "20c5e6d5",
   "metadata": {},
   "outputs": [],
   "source": [
    "names[3]=\"prasad\""
   ]
  },
  {
   "cell_type": "code",
   "execution_count": 8,
   "id": "29aef5b5",
   "metadata": {},
   "outputs": [
    {
     "name": "stdout",
     "output_type": "stream",
     "text": [
      "['hi', 'Apple', 'Siva', 'prasad', 2, 3]\n"
     ]
    }
   ],
   "source": [
    "print(names)"
   ]
  },
  {
   "cell_type": "code",
   "execution_count": 9,
   "id": "9e0845ed",
   "metadata": {},
   "outputs": [
    {
     "name": "stdout",
     "output_type": "stream",
     "text": [
      "['hi', 'Apple', 'Siva', 'prasad', 2, 3, 'Micheal']\n"
     ]
    }
   ],
   "source": [
    "names.append(\"Micheal\")\n",
    "print(names)"
   ]
  },
  {
   "cell_type": "code",
   "execution_count": 10,
   "id": "7fc8bc6f",
   "metadata": {},
   "outputs": [],
   "source": [
    "names.insert(1,\"Fire Strom\")\n"
   ]
  },
  {
   "cell_type": "code",
   "execution_count": 11,
   "id": "665ae154",
   "metadata": {},
   "outputs": [
    {
     "name": "stdout",
     "output_type": "stream",
     "text": [
      "['hi', 'Fire Strom', 'Apple', 'Siva', 'prasad', 2, 3, 'Micheal']\n"
     ]
    }
   ],
   "source": [
    "print(names)"
   ]
  },
  {
   "cell_type": "code",
   "execution_count": 12,
   "id": "d422a2e1",
   "metadata": {},
   "outputs": [
    {
     "name": "stdout",
     "output_type": "stream",
     "text": [
      "['hi', 'Fire Strom', 'Apple', 'Siva', 'prasad', 2, 3]\n"
     ]
    }
   ],
   "source": [
    "names.remove(\"Micheal\")\n",
    "print(names)"
   ]
  },
  {
   "cell_type": "code",
   "execution_count": 14,
   "id": "13b80fc9",
   "metadata": {},
   "outputs": [
    {
     "name": "stdout",
     "output_type": "stream",
     "text": [
      "3\n",
      "['hi', 'Fire Strom', 'Apple', 'Siva', 'prasad', 2]\n"
     ]
    }
   ],
   "source": [
    "popped_names=names.pop()\n",
    "print(popped_names)\n",
    "print(names)"
   ]
  },
  {
   "cell_type": "code",
   "execution_count": 15,
   "id": "b4b59eb6",
   "metadata": {},
   "outputs": [
    {
     "data": {
      "text/plain": [
       "2"
      ]
     },
     "execution_count": 15,
     "metadata": {},
     "output_type": "execute_result"
    }
   ],
   "source": [
    "names.index(\"Apple\")"
   ]
  },
  {
   "cell_type": "code",
   "execution_count": 16,
   "id": "e20bd92a",
   "metadata": {},
   "outputs": [
    {
     "data": {
      "text/plain": [
       "1"
      ]
     },
     "execution_count": 16,
     "metadata": {},
     "output_type": "execute_result"
    }
   ],
   "source": [
    "names.count(\"Siva\")"
   ]
  },
  {
   "cell_type": "code",
   "execution_count": 17,
   "id": "c0d5ab4a",
   "metadata": {},
   "outputs": [],
   "source": [
    "names.append(\"Siva\")"
   ]
  },
  {
   "cell_type": "code",
   "execution_count": 18,
   "id": "7670b74b",
   "metadata": {},
   "outputs": [
    {
     "data": {
      "text/plain": [
       "2"
      ]
     },
     "execution_count": 18,
     "metadata": {},
     "output_type": "execute_result"
    }
   ],
   "source": [
    "names.count(\"Siva\")"
   ]
  },
  {
   "cell_type": "code",
   "execution_count": 22,
   "id": "ebc2b336",
   "metadata": {},
   "outputs": [],
   "source": [
    "Friuts=[\"Banana\",\"Gauva\",\"Apple\",\"Kiwi\",\"watermelon\"]"
   ]
  },
  {
   "cell_type": "code",
   "execution_count": 23,
   "id": "45ca123c",
   "metadata": {},
   "outputs": [
    {
     "name": "stdout",
     "output_type": "stream",
     "text": [
      "['Banana', 'Gauva', 'Apple', 'Kiwi', 'watermelon']\n"
     ]
    }
   ],
   "source": [
    "print(Friuts)"
   ]
  },
  {
   "cell_type": "code",
   "execution_count": null,
   "id": "1e26afae",
   "metadata": {},
   "outputs": [],
   "source": [
    "Friuts.sort() ## sort means keep it in Order "
   ]
  },
  {
   "cell_type": "code",
   "execution_count": 26,
   "id": "4728e9fa",
   "metadata": {},
   "outputs": [
    {
     "data": {
      "text/plain": [
       "['Apple', 'Banana', 'Gauva', 'Kiwi', 'watermelon']"
      ]
     },
     "execution_count": 26,
     "metadata": {},
     "output_type": "execute_result"
    }
   ],
   "source": [
    "Friuts"
   ]
  },
  {
   "cell_type": "code",
   "execution_count": 27,
   "id": "13b2f48f",
   "metadata": {},
   "outputs": [],
   "source": [
    "Friuts.reverse()"
   ]
  },
  {
   "cell_type": "code",
   "execution_count": 28,
   "id": "33fa1224",
   "metadata": {},
   "outputs": [
    {
     "data": {
      "text/plain": [
       "['watermelon', 'Kiwi', 'Gauva', 'Banana', 'Apple']"
      ]
     },
     "execution_count": 28,
     "metadata": {},
     "output_type": "execute_result"
    }
   ],
   "source": [
    "Friuts"
   ]
  },
  {
   "cell_type": "code",
   "execution_count": 29,
   "id": "37bd84c5",
   "metadata": {},
   "outputs": [],
   "source": [
    "Friuts.clear()"
   ]
  },
  {
   "cell_type": "code",
   "execution_count": 30,
   "id": "062af372",
   "metadata": {},
   "outputs": [
    {
     "data": {
      "text/plain": [
       "[]"
      ]
     },
     "execution_count": 30,
     "metadata": {},
     "output_type": "execute_result"
    }
   ],
   "source": [
    "Friuts"
   ]
  },
  {
   "cell_type": "code",
   "execution_count": 32,
   "id": "c9bc0a8c",
   "metadata": {},
   "outputs": [],
   "source": [
    "##Slicing List\n",
    "Numbers=[1,2,3,4,5,6,7,8,9,10]"
   ]
  },
  {
   "cell_type": "code",
   "execution_count": 33,
   "id": "86d1caf4",
   "metadata": {},
   "outputs": [
    {
     "name": "stdout",
     "output_type": "stream",
     "text": [
      "[3, 4, 5]\n",
      "[6, 7, 8, 9, 10]\n",
      "[1, 2, 3, 4, 5]\n",
      "[1, 3, 5, 7, 9]\n",
      "[10, 9, 8, 7, 6, 5, 4, 3, 2, 1]\n"
     ]
    }
   ],
   "source": [
    "print(Numbers[2:5])\n",
    "print(Numbers[5:])\n",
    "print(Numbers[:5])\n",
    "print(Numbers[::2])\n",
    "print(Numbers[::-1])"
   ]
  },
  {
   "cell_type": "code",
   "execution_count": 34,
   "id": "03cfc251",
   "metadata": {},
   "outputs": [
    {
     "data": {
      "text/plain": [
       "[1, 4, 7, 10]"
      ]
     },
     "execution_count": 34,
     "metadata": {},
     "output_type": "execute_result"
    }
   ],
   "source": [
    "Numbers[::3]"
   ]
  },
  {
   "cell_type": "code",
   "execution_count": 35,
   "id": "d69fab73",
   "metadata": {},
   "outputs": [
    {
     "data": {
      "text/plain": [
       "[10, 8, 6, 4, 2]"
      ]
     },
     "execution_count": 35,
     "metadata": {},
     "output_type": "execute_result"
    }
   ],
   "source": [
    "Numbers[::-2]"
   ]
  },
  {
   "cell_type": "code",
   "execution_count": 36,
   "id": "4e19bc29",
   "metadata": {},
   "outputs": [
    {
     "name": "stdout",
     "output_type": "stream",
     "text": [
      "1\n",
      "2\n",
      "3\n",
      "4\n",
      "5\n",
      "6\n",
      "7\n",
      "8\n",
      "9\n",
      "10\n"
     ]
    }
   ],
   "source": [
    "### Iterating Over List\n",
    "for number in Numbers:\n",
    "    print(number)"
   ]
  },
  {
   "cell_type": "code",
   "execution_count": null,
   "id": "94f47821",
   "metadata": {},
   "outputs": [
    {
     "name": "stdout",
     "output_type": "stream",
     "text": [
      "1 1\n",
      "2 2\n",
      "3 3\n",
      "4 4\n",
      "5 5\n",
      "6 6\n",
      "7 7\n",
      "8 8\n",
      "9 9\n",
      "10 10\n"
     ]
    }
   ],
   "source": [
    "###Iterating\n",
    "for index,number in enumerate(Numbers,start=1):\n",
    "    print(index,number)"
   ]
  },
  {
   "cell_type": "code",
   "execution_count": 45,
   "id": "b1a8119e",
   "metadata": {},
   "outputs": [
    {
     "name": "stdout",
     "output_type": "stream",
     "text": [
      "[0, 1, 4, 9, 16, 25, 36, 49, 64, 81]\n"
     ]
    }
   ],
   "source": [
    "###List Comperhension\n",
    "List=[]\n",
    "for x in range(10):\n",
    "    List.append(x**2)\n",
    "print(List)"
   ]
  },
  {
   "cell_type": "code",
   "execution_count": 48,
   "id": "25a8500f",
   "metadata": {},
   "outputs": [
    {
     "data": {
      "text/plain": [
       "[0, 1, 4, 9, 16, 25, 36, 49, 64, 81]"
      ]
     },
     "execution_count": 48,
     "metadata": {},
     "output_type": "execute_result"
    }
   ],
   "source": [
    "[x**2 for x in range(10)]"
   ]
  },
  {
   "cell_type": "code",
   "execution_count": 50,
   "id": "d70ea374",
   "metadata": {},
   "outputs": [],
   "source": [
    "####List Comperhension"
   ]
  },
  {
   "cell_type": "code",
   "execution_count": 51,
   "id": "7735501a",
   "metadata": {},
   "outputs": [
    {
     "name": "stdout",
     "output_type": "stream",
     "text": [
      "[0, 1, 4, 9, 16, 25, 36, 49, 64, 81]\n"
     ]
    }
   ],
   "source": [
    "### Basic List Comphension \n",
    "\n",
    "Sqaure= [num**2 for num in range(10)]\n",
    "print(Sqaure)\n"
   ]
  },
  {
   "cell_type": "code",
   "execution_count": 60,
   "id": "f96d0816",
   "metadata": {},
   "outputs": [
    {
     "name": "stdout",
     "output_type": "stream",
     "text": [
      "0\n",
      "2\n",
      "4\n",
      "6\n",
      "8\n",
      "[0, 2, 4, 6, 8]\n"
     ]
    }
   ],
   "source": [
    "###List Comperhension with Condition\n",
    "Lst=[]\n",
    "for i in range(10):\n",
    "    if i%2==0:\n",
    "        Lst.append(i)\n",
    "        print(i)\n",
    "print(Lst)\n",
    "\n",
    "      \n",
    "\n",
    "        "
   ]
  },
  {
   "cell_type": "code",
   "execution_count": 61,
   "id": "bcc0cd30",
   "metadata": {},
   "outputs": [
    {
     "name": "stdout",
     "output_type": "stream",
     "text": [
      "[0, 2, 4, 6, 8]\n"
     ]
    }
   ],
   "source": [
    "even_numbers=[num for num in range(10) if num%2==0]\n",
    "print(even_numbers)"
   ]
  },
  {
   "cell_type": "code",
   "execution_count": 63,
   "id": "0f3d592e",
   "metadata": {},
   "outputs": [
    {
     "name": "stdout",
     "output_type": "stream",
     "text": [
      "[[1, 'a'], [1, 'b'], [1, 'c'], [1, 'd'], [1, 'e'], [1, 'f'], [2, 'a'], [2, 'b'], [2, 'c'], [2, 'd'], [2, 'e'], [2, 'f'], [3, 'a'], [3, 'b'], [3, 'c'], [3, 'd'], [3, 'e'], [3, 'f'], [4, 'a'], [4, 'b'], [4, 'c'], [4, 'd'], [4, 'e'], [4, 'f']]\n"
     ]
    }
   ],
   "source": [
    "##Nested List Comperhensive\n",
    "\n",
    "lst1=[1,2,3,4]\n",
    "lst2=[\"a\",\"b\",\"c\",\"d\",\"e\",\"f\"]\n",
    "\n",
    "pair=[[i,j] for i in lst1 for j in lst2]\n",
    "print(pair)"
   ]
  },
  {
   "cell_type": "code",
   "execution_count": 64,
   "id": "c9bd1b5f",
   "metadata": {},
   "outputs": [
    {
     "name": "stdout",
     "output_type": "stream",
     "text": [
      "[5, 5, 6, 4, 6]\n"
     ]
    }
   ],
   "source": [
    "## List Comprehension with funtion calls\n",
    "words=[\"Hello\",\"World\",\"Python\",\"Siva\",\"Prasad\"]\n",
    "lengths=[len(word) for word in words]\n",
    "print(lengths)\n"
   ]
  }
 ],
 "metadata": {
  "kernelspec": {
   "display_name": "Python 3",
   "language": "python",
   "name": "python3"
  },
  "language_info": {
   "codemirror_mode": {
    "name": "ipython",
    "version": 3
   },
   "file_extension": ".py",
   "mimetype": "text/x-python",
   "name": "python",
   "nbconvert_exporter": "python",
   "pygments_lexer": "ipython3",
   "version": "3.10.0"
  }
 },
 "nbformat": 4,
 "nbformat_minor": 5
}
