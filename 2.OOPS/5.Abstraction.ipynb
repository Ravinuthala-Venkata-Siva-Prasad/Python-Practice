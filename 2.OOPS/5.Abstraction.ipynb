{
 "cells": [
  {
   "cell_type": "markdown",
   "id": "71f1a60e",
   "metadata": {},
   "source": [
    "Abstraction"
   ]
  },
  {
   "cell_type": "code",
   "execution_count": 2,
   "id": "a7e47f0e",
   "metadata": {},
   "outputs": [
    {
     "name": "stdout",
     "output_type": "stream",
     "text": [
      "car enginer started\n",
      "the vehical is used for driving \n"
     ]
    }
   ],
   "source": [
    "from abc import ABC,abstractmethod\n",
    "\n",
    "###Abstract base class\n",
    "class vehical(ABC):\n",
    "    def drive(self):\n",
    "        print(\"the vehical is used for driving \")\n",
    "    \n",
    "    @abstractmethod\n",
    "    def start_engine(self):\n",
    "        pass\n",
    "    \n",
    "class car(vehical):\n",
    "    def start_engine(self):\n",
    "        print(\"car enginer started\")\n",
    "        \n",
    "def operate_vehical(vehical):\n",
    "    vehical.start_engine()\n",
    "    vehical.drive()\n",
    "    \n",
    "car=car()\n",
    "operate_vehical(car)"
   ]
  }
 ],
 "metadata": {
  "kernelspec": {
   "display_name": "Python 3",
   "language": "python",
   "name": "python3"
  },
  "language_info": {
   "codemirror_mode": {
    "name": "ipython",
    "version": 3
   },
   "file_extension": ".py",
   "mimetype": "text/x-python",
   "name": "python",
   "nbconvert_exporter": "python",
   "pygments_lexer": "ipython3",
   "version": "3.10.0"
  }
 },
 "nbformat": 4,
 "nbformat_minor": 5
}
