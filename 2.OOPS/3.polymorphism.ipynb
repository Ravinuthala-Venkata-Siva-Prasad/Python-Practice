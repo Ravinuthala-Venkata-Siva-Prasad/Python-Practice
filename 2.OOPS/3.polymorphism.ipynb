{
 "cells": [
  {
   "cell_type": "markdown",
   "id": "f53df758",
   "metadata": {},
   "source": [
    "Polymarphism"
   ]
  },
  {
   "cell_type": "code",
   "execution_count": 4,
   "id": "9a244c53",
   "metadata": {},
   "outputs": [
    {
     "name": "stdout",
     "output_type": "stream",
     "text": [
      "woof!\n",
      "meow!\n",
      "woof!\n"
     ]
    }
   ],
   "source": [
    "##Base Class\n",
    "\n",
    "class animal:\n",
    "    def speak(self):\n",
    "        return \"Sound of the animal\"\n",
    "    \n",
    "##Derived class 1\n",
    "\n",
    "class Dog(animal):\n",
    "    def speak(self):\n",
    "        return \"woof!\"\n",
    "    \n",
    "##Derived Class\n",
    "class cat(animal):\n",
    "    def speak(self):\n",
    "        return \"meow!\"\n",
    "    \n",
    "##Function that Demonstrates Polymorphism\n",
    "def animal_speak(animal):\n",
    "    print(animal.speak())\n",
    "    \n",
    "dog1=Dog()\n",
    "cat1=cat()\n",
    "print(dog1.speak())\n",
    "print(cat1.speak())\n",
    "animal_speak(dog1)\n",
    " "
   ]
  },
  {
   "cell_type": "code",
   "execution_count": 7,
   "id": "2e2324ea",
   "metadata": {},
   "outputs": [
    {
     "name": "stdout",
     "output_type": "stream",
     "text": [
      "the are is 20\n",
      "the are is 78.5\n"
     ]
    }
   ],
   "source": [
    "### Polymarphism with Function and Methods\n",
    "## Base class\n",
    "class shape:\n",
    "    def area(self):\n",
    "        return \"the are of the figure\"\n",
    "    \n",
    "##Derive class1\n",
    "\n",
    "class rectangle(shape):\n",
    "    def __init__(self,width,height):\n",
    "        self.width=width\n",
    "        self.height=height\n",
    "        \n",
    "    def area(self):\n",
    "        return self.width * self.height\n",
    "    \n",
    "    \n",
    "### derive Class2\n",
    "\n",
    "class circle(shape):\n",
    "    def __init__(self,radius):\n",
    "        self.radius=radius\n",
    "        \n",
    "    def area(self):\n",
    "        return 3.14 * self.radius * self.radius\n",
    "    \n",
    "##Function that demonstrates polymorphism\n",
    "\n",
    "def print_area(shape):\n",
    "    print(f\"the are is {shape.area()}\")\n",
    "\n",
    "rectangle1=rectangle(4,5)\n",
    "circle1=circle(5)\n",
    "\n",
    "print_area(rectangle1)\n",
    "print_area(circle1)\n",
    "    "
   ]
  },
  {
   "cell_type": "code",
   "execution_count": 8,
   "id": "b2a2c268",
   "metadata": {},
   "outputs": [
    {
     "name": "stdout",
     "output_type": "stream",
     "text": [
      "car enginer stared\n"
     ]
    }
   ],
   "source": [
    "from abc import ABC,abstractmethod\n",
    "\n",
    "### Define an abstract class \n",
    "class vehical(ABC):\n",
    "    @abstractmethod\n",
    "    def start_engine(self):\n",
    "        pass\n",
    "## drive class 1\n",
    "class car(vehical):\n",
    "    def start_engine(self):\n",
    "        return \"car enginer stared\"\n",
    "    \n",
    "### drive class 2\n",
    "class motorcycle(vehical):\n",
    "    def start_engine(self):\n",
    "        return \"Motorcycle engine started\"\n",
    "    \n",
    "##Function that demonstrates polymorphism\n",
    "def start_vehical(vehical):\n",
    "    print(vehical.start_engine())\n",
    "    \n",
    "### Create object of car and motorcycle\n",
    "\n",
    "car1 =car()\n",
    "motor1=motorcycle()\n",
    "\n",
    "start_vehical(car1)"
   ]
  }
 ],
 "metadata": {
  "kernelspec": {
   "display_name": "Python 3",
   "language": "python",
   "name": "python3"
  },
  "language_info": {
   "codemirror_mode": {
    "name": "ipython",
    "version": 3
   },
   "file_extension": ".py",
   "mimetype": "text/x-python",
   "name": "python",
   "nbconvert_exporter": "python",
   "pygments_lexer": "ipython3",
   "version": "3.10.0"
  }
 },
 "nbformat": 4,
 "nbformat_minor": 5
}
