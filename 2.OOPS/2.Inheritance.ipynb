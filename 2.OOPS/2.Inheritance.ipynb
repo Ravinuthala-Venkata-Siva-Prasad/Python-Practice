{
 "cells": [
  {
   "cell_type": "markdown",
   "id": "5ae32c49",
   "metadata": {},
   "source": [
    "## Inheritance "
   ]
  },
  {
   "cell_type": "code",
   "execution_count": 8,
   "id": "e982882f",
   "metadata": {},
   "outputs": [],
   "source": [
    "### Single Inheritance\n",
    "## parent Class\n",
    "class car:\n",
    "    def __init__(self,windows,doors,enginetype):\n",
    "        self.windows=windows\n",
    "        self.doors=doors\n",
    "        self.enginetype=enginetype\n",
    "        \n",
    "    def drive(self):\n",
    "        print(f\"The person will drive the {self.enginetype}\")"
   ]
  },
  {
   "cell_type": "code",
   "execution_count": 9,
   "id": "35e935dc",
   "metadata": {},
   "outputs": [
    {
     "name": "stdout",
     "output_type": "stream",
     "text": [
      "The person will drive the petrol\n"
     ]
    }
   ],
   "source": [
    "car1=car(4,4,\"petrol\")\n",
    "car1.drive()"
   ]
  },
  {
   "cell_type": "code",
   "execution_count": 12,
   "id": "30ee36a1",
   "metadata": {},
   "outputs": [],
   "source": [
    "class Tesla(car):\n",
    "    \n",
    "    def __init__(self,windows,doors,enginetype,is_selfdriving):\n",
    "        super().__init__(windows,doors,enginetype)\n",
    "        self.is_selfdriving=is_selfdriving\n",
    "        \n",
    "    def selfdriving(self):\n",
    "        print(f\"Tesla Support selfdriving : {self.is_selfdriving}\")\n",
    "        \n"
   ]
  },
  {
   "cell_type": "code",
   "execution_count": 13,
   "id": "55b5e295",
   "metadata": {},
   "outputs": [
    {
     "name": "stdout",
     "output_type": "stream",
     "text": [
      "Tesla Support selfdriving : True\n",
      "<__main__.Tesla object at 0x000001AB94C4AB00>\n"
     ]
    }
   ],
   "source": [
    "# Create an object of Tesla\n",
    "tesla1 = Tesla(4, 5, \"Electric\", True)\n",
    "\n",
    "# Call the method properly\n",
    "tesla1.selfdriving()\n",
    "\n",
    "# Print object details\n",
    "print(tesla1)"
   ]
  },
  {
   "cell_type": "code",
   "execution_count": 14,
   "id": "68d32084",
   "metadata": {},
   "outputs": [
    {
     "name": "stdout",
     "output_type": "stream",
     "text": [
      "The person will drive the Electric\n"
     ]
    }
   ],
   "source": [
    "tesla1.drive()"
   ]
  },
  {
   "cell_type": "code",
   "execution_count": 16,
   "id": "0b98ed6e",
   "metadata": {},
   "outputs": [
    {
     "name": "stdout",
     "output_type": "stream",
     "text": [
      "puppy say woof\n",
      "owner:buddy\n"
     ]
    }
   ],
   "source": [
    "#### Multiple Inheritance\n",
    "## when a class inherits from more than one base class.\n",
    "## Base class 1\n",
    "\n",
    "class animal:\n",
    "    def __init__(self,name):\n",
    "        self.name=name\n",
    "        \n",
    "    def speak(self):\n",
    "        print(\"Subclass must implemrnt this method\")\n",
    "        \n",
    "class pet:\n",
    "    def __init__(self,owner):\n",
    "        self.owner=owner\n",
    "        \n",
    "    \n",
    "class Dog(animal,pet):\n",
    "    def __init__(self,name,owner):\n",
    "        animal. __init__(self,name)\n",
    "        pet.__init__(self,owner)\n",
    "        \n",
    "    def speak(self):\n",
    "        return f\"{self.name} say woof\"\n",
    "    \n",
    "    \n",
    "##Create an object\n",
    "dog1=Dog(\"puppy\",\"buddy\")\n",
    "print(dog1.speak())\n",
    "print(f\"owner:{dog1.owner}\")"
   ]
  }
 ],
 "metadata": {
  "kernelspec": {
   "display_name": "Python 3",
   "language": "python",
   "name": "python3"
  },
  "language_info": {
   "codemirror_mode": {
    "name": "ipython",
    "version": 3
   },
   "file_extension": ".py",
   "mimetype": "text/x-python",
   "name": "python",
   "nbconvert_exporter": "python",
   "pygments_lexer": "ipython3",
   "version": "3.10.0"
  }
 },
 "nbformat": 4,
 "nbformat_minor": 5
}
