{
 "cells": [
  {
   "cell_type": "markdown",
   "id": "a39c64f4",
   "metadata": {},
   "source": [
    "Decorators"
   ]
  },
  {
   "cell_type": "code",
   "execution_count": 2,
   "id": "9b03e575",
   "metadata": {},
   "outputs": [],
   "source": [
    "#Function copy\n",
    "#closures\n",
    "# decorators"
   ]
  },
  {
   "cell_type": "code",
   "execution_count": 4,
   "id": "e2549153",
   "metadata": {},
   "outputs": [
    {
     "data": {
      "text/plain": [
       "'Welcome To New World'"
      ]
     },
     "execution_count": 4,
     "metadata": {},
     "output_type": "execute_result"
    }
   ],
   "source": [
    "#Function Copy\n",
    "def welcome():\n",
    "    return \"Welcome To New World\"\n",
    "\n",
    "welcome()"
   ]
  },
  {
   "cell_type": "code",
   "execution_count": 5,
   "id": "bcb10513",
   "metadata": {},
   "outputs": [
    {
     "name": "stdout",
     "output_type": "stream",
     "text": [
      "Welcome To New World\n",
      "Welcome To New World\n"
     ]
    }
   ],
   "source": [
    "wel =welcome\n",
    "print(wel())\n",
    "del welcome\n",
    "print(wel())"
   ]
  },
  {
   "cell_type": "code",
   "execution_count": 6,
   "id": "5582d0e7",
   "metadata": {},
   "outputs": [],
   "source": [
    "# Closures functions\n",
    "\n",
    "def main_welcome(msg):\n",
    "    \n",
    "    def sub_welcome_method():\n",
    "        print(\"Welcome to my Hotel\")\n",
    "        print(msg)\n",
    "        print(\"Welcome and Enjoy Here\")\n",
    "    return sub_welcome_method()"
   ]
  },
  {
   "cell_type": "code",
   "execution_count": 7,
   "id": "a2e94c8c",
   "metadata": {},
   "outputs": [
    {
     "name": "stdout",
     "output_type": "stream",
     "text": [
      "Welcome to my Hotel\n",
      "hello Everyone\n",
      "Welcome and Enjoy Here\n"
     ]
    }
   ],
   "source": [
    "main_welcome(\"hello Everyone\")"
   ]
  },
  {
   "cell_type": "code",
   "execution_count": null,
   "id": "5639f936",
   "metadata": {},
   "outputs": [],
   "source": []
  }
 ],
 "metadata": {
  "kernelspec": {
   "display_name": "Python 3",
   "language": "python",
   "name": "python3"
  },
  "language_info": {
   "codemirror_mode": {
    "name": "ipython",
    "version": 3
   },
   "file_extension": ".py",
   "mimetype": "text/x-python",
   "name": "python",
   "nbconvert_exporter": "python",
   "pygments_lexer": "ipython3",
   "version": "3.10.0"
  }
 },
 "nbformat": 4,
 "nbformat_minor": 5
}
